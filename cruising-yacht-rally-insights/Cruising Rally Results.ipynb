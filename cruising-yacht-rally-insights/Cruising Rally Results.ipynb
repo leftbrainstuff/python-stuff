{
 "cells": [
  {
   "cell_type": "code",
   "execution_count": null,
   "metadata": {},
   "outputs": [],
   "source": [
    "# Import csv of results of cruising rallies"
   ]
  },
  {
   "cell_type": "code",
   "execution_count": 1,
   "metadata": {},
   "outputs": [],
   "source": [
    "import pandas as pd\n",
    "import numpy as np"
   ]
  },
  {
   "cell_type": "code",
   "execution_count": 11,
   "metadata": {},
   "outputs": [],
   "source": [
    "df = pd.read_csv('rally.csv', sep='\\t')"
   ]
  },
  {
   "cell_type": "code",
   "execution_count": 3,
   "metadata": {},
   "outputs": [
    {
     "ename": "SyntaxError",
     "evalue": "invalid syntax (<ipython-input-3-55079db22582>, line 2)",
     "output_type": "error",
     "traceback": [
      "\u001b[0;36m  File \u001b[0;32m\"<ipython-input-3-55079db22582>\"\u001b[0;36m, line \u001b[0;32m2\u001b[0m\n\u001b[0;31m    * count number of values using .shape[0]\u001b[0m\n\u001b[0m                 ^\u001b[0m\n\u001b[0;31mSyntaxError\u001b[0m\u001b[0;31m:\u001b[0m invalid syntax\n"
     ]
    }
   ],
   "source": [
    "# Confirm data is imported and in the correct format\n",
    "* count number of values using .shape[0]\n",
    "* summarize the imported data using .info()\n",
    "* type of index, columns and values\n",
    "* list first few rows using .head()"
   ]
  },
  {
   "cell_type": "code",
   "execution_count": 12,
   "metadata": {},
   "outputs": [
    {
     "data": {
      "text/plain": [
       "7"
      ]
     },
     "execution_count": 12,
     "metadata": {},
     "output_type": "execute_result"
    }
   ],
   "source": [
    "df.shape[0]"
   ]
  },
  {
   "cell_type": "code",
   "execution_count": 13,
   "metadata": {},
   "outputs": [
    {
     "name": "stdout",
     "output_type": "stream",
     "text": [
      "<class 'pandas.core.frame.DataFrame'>\n",
      "RangeIndex: 7 entries, 0 to 6\n",
      "Data columns (total 20 columns):\n",
      "Rally                7 non-null object\n",
      "Year                 6 non-null float64\n",
      "VesselName           6 non-null object\n",
      "VesselMake           6 non-null object\n",
      "LOA                  0 non-null float64\n",
      "CaptainandCrew       5 non-null object\n",
      "Homeport             6 non-null object\n",
      "DepartedFrom         6 non-null object\n",
      "DepartureDate        6 non-null object\n",
      "MadeLandfall         6 non-null object\n",
      "ArrivalDate          6 non-null object\n",
      "DaysofCrossing       6 non-null float64\n",
      "NMTravelled          6 non-null object\n",
      "EquatorXLongitude    6 non-null object\n",
      "EngineHours          6 non-null float64\n",
      "Best24Hours          6 non-null object\n",
      "Worst24Hours         6 non-null object\n",
      "HighWindSpeed        6 non-null object\n",
      "NoFishCaught         5 non-null object\n",
      "Breakages            6 non-null object\n",
      "dtypes: float64(4), object(16)\n",
      "memory usage: 1.2+ KB\n"
     ]
    }
   ],
   "source": [
    "df.info()"
   ]
  },
  {
   "cell_type": "code",
   "execution_count": 24,
   "metadata": {},
   "outputs": [
    {
     "data": {
      "text/plain": [
       "pandas.core.indexes.range.RangeIndex"
      ]
     },
     "execution_count": 24,
     "metadata": {},
     "output_type": "execute_result"
    }
   ],
   "source": [
    "type(df.index)"
   ]
  },
  {
   "cell_type": "code",
   "execution_count": 25,
   "metadata": {},
   "outputs": [
    {
     "data": {
      "text/plain": [
       "pandas.core.indexes.base.Index"
      ]
     },
     "execution_count": 25,
     "metadata": {},
     "output_type": "execute_result"
    }
   ],
   "source": [
    "type(df.columns)"
   ]
  },
  {
   "cell_type": "code",
   "execution_count": 26,
   "metadata": {},
   "outputs": [
    {
     "data": {
      "text/plain": [
       "numpy.ndarray"
      ]
     },
     "execution_count": 26,
     "metadata": {},
     "output_type": "execute_result"
    }
   ],
   "source": [
    "type(df.values)"
   ]
  },
  {
   "cell_type": "code",
   "execution_count": 14,
   "metadata": {},
   "outputs": [
    {
     "data": {
      "text/html": [
       "<div>\n",
       "<style scoped>\n",
       "    .dataframe tbody tr th:only-of-type {\n",
       "        vertical-align: middle;\n",
       "    }\n",
       "\n",
       "    .dataframe tbody tr th {\n",
       "        vertical-align: top;\n",
       "    }\n",
       "\n",
       "    .dataframe thead th {\n",
       "        text-align: right;\n",
       "    }\n",
       "</style>\n",
       "<table border=\"1\" class=\"dataframe\">\n",
       "  <thead>\n",
       "    <tr style=\"text-align: right;\">\n",
       "      <th></th>\n",
       "      <th>Rally</th>\n",
       "      <th>Year</th>\n",
       "      <th>VesselName</th>\n",
       "      <th>VesselMake</th>\n",
       "      <th>LOA</th>\n",
       "      <th>CaptainandCrew</th>\n",
       "      <th>Homeport</th>\n",
       "      <th>DepartedFrom</th>\n",
       "      <th>DepartureDate</th>\n",
       "      <th>MadeLandfall</th>\n",
       "      <th>ArrivalDate</th>\n",
       "      <th>DaysofCrossing</th>\n",
       "      <th>NMTravelled</th>\n",
       "      <th>EquatorXLongitude</th>\n",
       "      <th>EngineHours</th>\n",
       "      <th>Best24Hours</th>\n",
       "      <th>Worst24Hours</th>\n",
       "      <th>HighWindSpeed</th>\n",
       "      <th>NoFishCaught</th>\n",
       "      <th>Breakages</th>\n",
       "    </tr>\n",
       "  </thead>\n",
       "  <tbody>\n",
       "    <tr>\n",
       "      <th>0</th>\n",
       "      <td>Pacific Puddle Jump</td>\n",
       "      <td>2018.0</td>\n",
       "      <td>Alexandra</td>\n",
       "      <td>Bavaria 37</td>\n",
       "      <td>NaN</td>\n",
       "      <td>Stuart Corbett</td>\n",
       "      <td>Amsterdam NDL</td>\n",
       "      <td>Puerto Vallarta</td>\n",
       "      <td>17-May</td>\n",
       "      <td>Nuka Hiva</td>\n",
       "      <td>12-Jun</td>\n",
       "      <td>27.0</td>\n",
       "      <td>3000</td>\n",
       "      <td>130W</td>\n",
       "      <td>101.0</td>\n",
       "      <td>131</td>\n",
       "      <td>39</td>\n",
       "      <td>35 kts</td>\n",
       "      <td>NaN</td>\n",
       "      <td>Seam parted in headsail</td>\n",
       "    </tr>\n",
       "    <tr>\n",
       "      <th>1</th>\n",
       "      <td>Pacific Puddle Jump</td>\n",
       "      <td>2018.0</td>\n",
       "      <td>Banyan</td>\n",
       "      <td>Mason 43</td>\n",
       "      <td>NaN</td>\n",
       "      <td>The Yawler family</td>\n",
       "      <td>Sausalito CA</td>\n",
       "      <td>Puerto Vallarta</td>\n",
       "      <td>27-Mar</td>\n",
       "      <td>Hiva Oia</td>\n",
       "      <td>23-Apr</td>\n",
       "      <td>22.0</td>\n",
       "      <td>2750</td>\n",
       "      <td>128W</td>\n",
       "      <td>15.0</td>\n",
       "      <td>169</td>\n",
       "      <td>91</td>\n",
       "      <td>35 kts</td>\n",
       "      <td>9</td>\n",
       "      <td>Rip in Genoa</td>\n",
       "    </tr>\n",
       "    <tr>\n",
       "      <th>2</th>\n",
       "      <td>Pacific Puddle Jump</td>\n",
       "      <td>2018.0</td>\n",
       "      <td>Hylife</td>\n",
       "      <td>Hylas 49</td>\n",
       "      <td>NaN</td>\n",
       "      <td>OldMoon LLC</td>\n",
       "      <td>Coos Bay Or</td>\n",
       "      <td>Puerto Vallarta</td>\n",
       "      <td>17-Mar</td>\n",
       "      <td>Hiva Oia</td>\n",
       "      <td>3-Apr</td>\n",
       "      <td>19.0</td>\n",
       "      <td>2900</td>\n",
       "      <td>131W</td>\n",
       "      <td>42.0</td>\n",
       "      <td>206</td>\n",
       "      <td>108</td>\n",
       "      <td>30 kts</td>\n",
       "      <td>0</td>\n",
       "      <td>Topping lift chafed through at masthead, one f...</td>\n",
       "    </tr>\n",
       "  </tbody>\n",
       "</table>\n",
       "</div>"
      ],
      "text/plain": [
       "                 Rally    Year VesselName  VesselMake  LOA     CaptainandCrew  \\\n",
       "0  Pacific Puddle Jump  2018.0  Alexandra  Bavaria 37  NaN     Stuart Corbett   \n",
       "1  Pacific Puddle Jump  2018.0     Banyan    Mason 43  NaN  The Yawler family   \n",
       "2  Pacific Puddle Jump  2018.0     Hylife    Hylas 49  NaN        OldMoon LLC   \n",
       "\n",
       "        Homeport     DepartedFrom DepartureDate MadeLandfall ArrivalDate  \\\n",
       "0  Amsterdam NDL  Puerto Vallarta        17-May    Nuka Hiva      12-Jun   \n",
       "1   Sausalito CA  Puerto Vallarta        27-Mar     Hiva Oia      23-Apr   \n",
       "2    Coos Bay Or  Puerto Vallarta        17-Mar     Hiva Oia       3-Apr   \n",
       "\n",
       "   DaysofCrossing NMTravelled EquatorXLongitude  EngineHours Best24Hours  \\\n",
       "0            27.0        3000              130W        101.0         131   \n",
       "1            22.0        2750              128W         15.0         169   \n",
       "2            19.0        2900              131W         42.0         206   \n",
       "\n",
       "  Worst24Hours HighWindSpeed NoFishCaught  \\\n",
       "0           39        35 kts          NaN   \n",
       "1           91        35 kts            9   \n",
       "2          108        30 kts            0   \n",
       "\n",
       "                                           Breakages  \n",
       "0                            Seam parted in headsail  \n",
       "1                                       Rip in Genoa  \n",
       "2  Topping lift chafed through at masthead, one f...  "
      ]
     },
     "execution_count": 14,
     "metadata": {},
     "output_type": "execute_result"
    }
   ],
   "source": [
    "df.head(3)"
   ]
  },
  {
   "cell_type": "code",
   "execution_count": 15,
   "metadata": {},
   "outputs": [
    {
     "data": {
      "text/html": [
       "<div>\n",
       "<style scoped>\n",
       "    .dataframe tbody tr th:only-of-type {\n",
       "        vertical-align: middle;\n",
       "    }\n",
       "\n",
       "    .dataframe tbody tr th {\n",
       "        vertical-align: top;\n",
       "    }\n",
       "\n",
       "    .dataframe thead th {\n",
       "        text-align: right;\n",
       "    }\n",
       "</style>\n",
       "<table border=\"1\" class=\"dataframe\">\n",
       "  <thead>\n",
       "    <tr style=\"text-align: right;\">\n",
       "      <th></th>\n",
       "      <th>Rally</th>\n",
       "      <th>Best24Hours</th>\n",
       "      <th>Worst24Hours</th>\n",
       "    </tr>\n",
       "  </thead>\n",
       "  <tbody>\n",
       "    <tr>\n",
       "      <th>0</th>\n",
       "      <td>Pacific Puddle Jump</td>\n",
       "      <td>131</td>\n",
       "      <td>39</td>\n",
       "    </tr>\n",
       "    <tr>\n",
       "      <th>1</th>\n",
       "      <td>Pacific Puddle Jump</td>\n",
       "      <td>169</td>\n",
       "      <td>91</td>\n",
       "    </tr>\n",
       "    <tr>\n",
       "      <th>2</th>\n",
       "      <td>Pacific Puddle Jump</td>\n",
       "      <td>206</td>\n",
       "      <td>108</td>\n",
       "    </tr>\n",
       "    <tr>\n",
       "      <th>3</th>\n",
       "      <td>Pacific Puddle Jump</td>\n",
       "      <td>na</td>\n",
       "      <td>na</td>\n",
       "    </tr>\n",
       "    <tr>\n",
       "      <th>4</th>\n",
       "      <td>Pacific Puddle Jump</td>\n",
       "      <td>na</td>\n",
       "      <td>na</td>\n",
       "    </tr>\n",
       "    <tr>\n",
       "      <th>5</th>\n",
       "      <td>Pacific Puddle Jump</td>\n",
       "      <td>150</td>\n",
       "      <td>85</td>\n",
       "    </tr>\n",
       "    <tr>\n",
       "      <th>6</th>\n",
       "      <td>Pacific Puddle Jump</td>\n",
       "      <td>NaN</td>\n",
       "      <td>NaN</td>\n",
       "    </tr>\n",
       "  </tbody>\n",
       "</table>\n",
       "</div>"
      ],
      "text/plain": [
       "                 Rally Best24Hours Worst24Hours\n",
       "0  Pacific Puddle Jump         131           39\n",
       "1  Pacific Puddle Jump         169           91\n",
       "2  Pacific Puddle Jump         206          108\n",
       "3  Pacific Puddle Jump          na           na\n",
       "4  Pacific Puddle Jump          na           na\n",
       "5  Pacific Puddle Jump         150           85\n",
       "6  Pacific Puddle Jump         NaN          NaN"
      ]
     },
     "execution_count": 15,
     "metadata": {},
     "output_type": "execute_result"
    }
   ],
   "source": [
    "df[['Rally', 'Best24Hours', 'Worst24Hours']]"
   ]
  },
  {
   "cell_type": "code",
   "execution_count": 17,
   "metadata": {},
   "outputs": [
    {
     "data": {
      "text/plain": [
       "LOA                           NaN\n",
       "CaptainandCrew        OldMoon LLC\n",
       "Homeport              Coos Bay Or\n",
       "DepartedFrom      Puerto Vallarta\n",
       "DepartureDate              17-Mar\n",
       "MadeLandfall             Hiva Oia\n",
       "Name: 2, dtype: object"
      ]
     },
     "execution_count": 17,
     "metadata": {},
     "output_type": "execute_result"
    }
   ],
   "source": [
    "df.loc[2,'LOA':'MadeLandfall']"
   ]
  },
  {
   "cell_type": "code",
   "execution_count": 20,
   "metadata": {},
   "outputs": [
    {
     "data": {
      "text/html": [
       "<div>\n",
       "<style scoped>\n",
       "    .dataframe tbody tr th:only-of-type {\n",
       "        vertical-align: middle;\n",
       "    }\n",
       "\n",
       "    .dataframe tbody tr th {\n",
       "        vertical-align: top;\n",
       "    }\n",
       "\n",
       "    .dataframe thead th {\n",
       "        text-align: right;\n",
       "    }\n",
       "</style>\n",
       "<table border=\"1\" class=\"dataframe\">\n",
       "  <thead>\n",
       "    <tr style=\"text-align: right;\">\n",
       "      <th></th>\n",
       "      <th>Rally</th>\n",
       "      <th>Year</th>\n",
       "      <th>VesselName</th>\n",
       "      <th>VesselMake</th>\n",
       "      <th>LOA</th>\n",
       "      <th>CaptainandCrew</th>\n",
       "      <th>Homeport</th>\n",
       "      <th>DepartedFrom</th>\n",
       "      <th>DepartureDate</th>\n",
       "      <th>MadeLandfall</th>\n",
       "      <th>ArrivalDate</th>\n",
       "      <th>DaysofCrossing</th>\n",
       "      <th>NMTravelled</th>\n",
       "      <th>EquatorXLongitude</th>\n",
       "      <th>EngineHours</th>\n",
       "      <th>Best24Hours</th>\n",
       "      <th>Worst24Hours</th>\n",
       "      <th>HighWindSpeed</th>\n",
       "      <th>NoFishCaught</th>\n",
       "      <th>Breakages</th>\n",
       "    </tr>\n",
       "  </thead>\n",
       "  <tbody>\n",
       "    <tr>\n",
       "      <th>3</th>\n",
       "      <td>Pacific Puddle Jump</td>\n",
       "      <td>2018.0</td>\n",
       "      <td>Cool Change</td>\n",
       "      <td>Pacific Seacraft 31</td>\n",
       "      <td>NaN</td>\n",
       "      <td>NaN</td>\n",
       "      <td>Sausalito CA</td>\n",
       "      <td>Puerto Vallarta</td>\n",
       "      <td>27-Mar</td>\n",
       "      <td>Hiva Oia</td>\n",
       "      <td>23-Apr</td>\n",
       "      <td>27.0</td>\n",
       "      <td>2797</td>\n",
       "      <td>na</td>\n",
       "      <td>86.0</td>\n",
       "      <td>na</td>\n",
       "      <td>na</td>\n",
       "      <td>na</td>\n",
       "      <td>1</td>\n",
       "      <td>Second leg continued below???</td>\n",
       "    </tr>\n",
       "    <tr>\n",
       "      <th>4</th>\n",
       "      <td>Pacific Puddle Jump</td>\n",
       "      <td>2018.0</td>\n",
       "      <td>Jade Akka</td>\n",
       "      <td>Bruce Roberts 542</td>\n",
       "      <td>NaN</td>\n",
       "      <td>Thomas and Isabel Zwicker</td>\n",
       "      <td>Basel, SWZ</td>\n",
       "      <td>La Paz</td>\n",
       "      <td>na</td>\n",
       "      <td>Hiva Oia</td>\n",
       "      <td>na</td>\n",
       "      <td>21.0</td>\n",
       "      <td>na</td>\n",
       "      <td>135W</td>\n",
       "      <td>18.0</td>\n",
       "      <td>na</td>\n",
       "      <td>na</td>\n",
       "      <td>32</td>\n",
       "      <td>2</td>\n",
       "      <td>Problems with new and little used Spectra Wate...</td>\n",
       "    </tr>\n",
       "    <tr>\n",
       "      <th>2</th>\n",
       "      <td>Pacific Puddle Jump</td>\n",
       "      <td>2018.0</td>\n",
       "      <td>Hylife</td>\n",
       "      <td>Hylas 49</td>\n",
       "      <td>NaN</td>\n",
       "      <td>OldMoon LLC</td>\n",
       "      <td>Coos Bay Or</td>\n",
       "      <td>Puerto Vallarta</td>\n",
       "      <td>17-Mar</td>\n",
       "      <td>Hiva Oia</td>\n",
       "      <td>3-Apr</td>\n",
       "      <td>19.0</td>\n",
       "      <td>2900</td>\n",
       "      <td>131W</td>\n",
       "      <td>42.0</td>\n",
       "      <td>206</td>\n",
       "      <td>108</td>\n",
       "      <td>30 kts</td>\n",
       "      <td>0</td>\n",
       "      <td>Topping lift chafed through at masthead, one f...</td>\n",
       "    </tr>\n",
       "    <tr>\n",
       "      <th>1</th>\n",
       "      <td>Pacific Puddle Jump</td>\n",
       "      <td>2018.0</td>\n",
       "      <td>Banyan</td>\n",
       "      <td>Mason 43</td>\n",
       "      <td>NaN</td>\n",
       "      <td>The Yawler family</td>\n",
       "      <td>Sausalito CA</td>\n",
       "      <td>Puerto Vallarta</td>\n",
       "      <td>27-Mar</td>\n",
       "      <td>Hiva Oia</td>\n",
       "      <td>23-Apr</td>\n",
       "      <td>22.0</td>\n",
       "      <td>2750</td>\n",
       "      <td>128W</td>\n",
       "      <td>15.0</td>\n",
       "      <td>169</td>\n",
       "      <td>91</td>\n",
       "      <td>35 kts</td>\n",
       "      <td>9</td>\n",
       "      <td>Rip in Genoa</td>\n",
       "    </tr>\n",
       "    <tr>\n",
       "      <th>5</th>\n",
       "      <td>Pacific Puddle Jump</td>\n",
       "      <td>2018.0</td>\n",
       "      <td>Sedna</td>\n",
       "      <td>Hans Christian 38</td>\n",
       "      <td>NaN</td>\n",
       "      <td>Clifton and Giselle Miller</td>\n",
       "      <td>Juneau AK</td>\n",
       "      <td>San Benedicto</td>\n",
       "      <td>16-Mar</td>\n",
       "      <td>Hiva Oia</td>\n",
       "      <td>6-Apr</td>\n",
       "      <td>21.0</td>\n",
       "      <td>2700</td>\n",
       "      <td>128W</td>\n",
       "      <td>100.0</td>\n",
       "      <td>150</td>\n",
       "      <td>85</td>\n",
       "      <td>35</td>\n",
       "      <td>3-Jan</td>\n",
       "      <td>Reef line chafe</td>\n",
       "    </tr>\n",
       "  </tbody>\n",
       "</table>\n",
       "</div>"
      ],
      "text/plain": [
       "                 Rally    Year   VesselName           VesselMake  LOA  \\\n",
       "3  Pacific Puddle Jump  2018.0  Cool Change  Pacific Seacraft 31  NaN   \n",
       "4  Pacific Puddle Jump  2018.0    Jade Akka    Bruce Roberts 542  NaN   \n",
       "2  Pacific Puddle Jump  2018.0       Hylife             Hylas 49  NaN   \n",
       "1  Pacific Puddle Jump  2018.0       Banyan             Mason 43  NaN   \n",
       "5  Pacific Puddle Jump  2018.0        Sedna    Hans Christian 38  NaN   \n",
       "\n",
       "               CaptainandCrew      Homeport     DepartedFrom DepartureDate  \\\n",
       "3                         NaN  Sausalito CA  Puerto Vallarta        27-Mar   \n",
       "4   Thomas and Isabel Zwicker    Basel, SWZ           La Paz            na   \n",
       "2                 OldMoon LLC   Coos Bay Or  Puerto Vallarta        17-Mar   \n",
       "1           The Yawler family  Sausalito CA  Puerto Vallarta        27-Mar   \n",
       "5  Clifton and Giselle Miller     Juneau AK    San Benedicto        16-Mar   \n",
       "\n",
       "  MadeLandfall ArrivalDate  DaysofCrossing NMTravelled EquatorXLongitude  \\\n",
       "3     Hiva Oia      23-Apr            27.0        2797                na   \n",
       "4     Hiva Oia          na            21.0          na              135W   \n",
       "2     Hiva Oia       3-Apr            19.0        2900              131W   \n",
       "1     Hiva Oia      23-Apr            22.0        2750              128W   \n",
       "5     Hiva Oia       6-Apr            21.0        2700              128W   \n",
       "\n",
       "   EngineHours Best24Hours Worst24Hours HighWindSpeed NoFishCaught  \\\n",
       "3         86.0          na           na            na            1   \n",
       "4         18.0          na           na            32            2   \n",
       "2         42.0         206          108        30 kts            0   \n",
       "1         15.0         169           91        35 kts            9   \n",
       "5        100.0         150           85            35        3-Jan   \n",
       "\n",
       "                                           Breakages  \n",
       "3                      Second leg continued below???  \n",
       "4  Problems with new and little used Spectra Wate...  \n",
       "2  Topping lift chafed through at masthead, one f...  \n",
       "1                                       Rip in Genoa  \n",
       "5                                    Reef line chafe  "
      ]
     },
     "execution_count": 20,
     "metadata": {},
     "output_type": "execute_result"
    }
   ],
   "source": [
    "r = df.groupby(['HighWindSpeed', 'DepartedFrom'])\n",
    "r = df.sort_values(['Best24Hours','Worst24Hours'], ascending=False)\n",
    "r.head(5)"
   ]
  },
  {
   "cell_type": "code",
   "execution_count": null,
   "metadata": {},
   "outputs": [],
   "source": []
  }
 ],
 "metadata": {
  "kernelspec": {
   "display_name": "Python 3",
   "language": "python",
   "name": "python3"
  },
  "language_info": {
   "codemirror_mode": {
    "name": "ipython",
    "version": 3
   },
   "file_extension": ".py",
   "mimetype": "text/x-python",
   "name": "python",
   "nbconvert_exporter": "python",
   "pygments_lexer": "ipython3",
   "version": "3.6.5"
  }
 },
 "nbformat": 4,
 "nbformat_minor": 2
}
